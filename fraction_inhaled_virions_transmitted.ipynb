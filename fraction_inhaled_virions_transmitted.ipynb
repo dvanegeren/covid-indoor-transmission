{
 "cells": [
  {
   "cell_type": "code",
   "execution_count": 1,
   "metadata": {},
   "outputs": [],
   "source": [
    "import matplotlib.pyplot as plt\n",
    "import pandas as pd\n",
    "import numpy as np\n",
    "\n",
    "# This script uses input data (stored in droplet_sizes.csv) from - to calculate the\n",
    "# fraction of inhaled virions that hit the nasopharynx. This calculated probability is used in subsequent analyses\n",
    "# and plotted in Figs. 4-6."
   ]
  },
  {
   "cell_type": "code",
   "execution_count": 2,
   "metadata": {},
   "outputs": [],
   "source": [
    "size_df = pd.read_csv(\"./droplet_sizes.csv\")[[\"expelled_size\", \"inhaled_size\", \"transmission_prob\", \"percent_expelled\"]]\n",
    "size_df[\"deposition_prob\"] = size_df[\"transmission_prob\"]\n"
   ]
  },
  {
   "cell_type": "code",
   "execution_count": 3,
   "metadata": {},
   "outputs": [
    {
     "name": "stdout",
     "output_type": "stream",
     "text": [
      "overall fraction of virions that are transmitted, given they are inhaled: 0.005790516615061633\n"
     ]
    }
   ],
   "source": [
    "size_df[\"expelled_pdf\"] = size_df[\"percent_expelled\"]/100\n",
    "\n",
    "# steady-state fraction of virions in each droplet size class\n",
    "size_df[\"expelled_vol\"] = np.power(size_df[\"expelled_size\"]/2, 3) * (4/3)\n",
    "size_df[\"frac_viruses\"] = size_df[\"expelled_pdf\"] * size_df[\"expelled_vol\"]\n",
    "# renormalized to account for larger particles not included in original pdf\n",
    "size_df[\"frac_viruses\"] = np.sum(size_df[\"expelled_pdf\"])*size_df[\"frac_viruses\"]/np.sum(size_df[\"frac_viruses\"])\n",
    "size_df[\"frac_viruses\"] = size_df[\"frac_viruses\"]/np.sum(size_df[\"frac_viruses\"])\n",
    "\n",
    "# to marginalize out droplet size: probability that a virus in each droplet size class\n",
    "# will be inhaled multiplied by probability that virus is in that droplet size class\n",
    "size_df[\"trans_dist\"] = size_df[\"frac_viruses\"] * size_df[\"deposition_prob\"]/100\n",
    "frac_vir_trans = np.sum(size_df[\"trans_dist\"])\n",
    "print(\"overall fraction of virions that are transmitted, given they are inhaled:\", frac_vir_trans)"
   ]
  },
  {
   "cell_type": "code",
   "execution_count": 17,
   "metadata": {},
   "outputs": [],
   "source": [
    "#size_df[[\"inhaled_size\", \"percent_expelled\", \"transmission_prob\"]].to_csv(\"./inhaled_table.csv\", index=False)"
   ]
  },
  {
   "cell_type": "code",
   "execution_count": null,
   "metadata": {},
   "outputs": [],
   "source": []
  }
 ],
 "metadata": {
  "kernelspec": {
   "display_name": "Python 3",
   "language": "python",
   "name": "python3"
  },
  "language_info": {
   "codemirror_mode": {
    "name": "ipython",
    "version": 3
   },
   "file_extension": ".py",
   "mimetype": "text/x-python",
   "name": "python",
   "nbconvert_exporter": "python",
   "pygments_lexer": "ipython3",
   "version": "3.7.7"
  }
 },
 "nbformat": 4,
 "nbformat_minor": 4
}
